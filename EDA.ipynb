{
 "cells": [
  {
   "cell_type": "markdown",
   "metadata": {},
   "source": [
    "## 데이터 설명\n",
    "### 유의사항\n",
    "- 서버의 master 데이터셋을 local로 복사한 후에 사용할 것\n",
    "- 외부 데이터 사용 불가\n",
    "\n",
    "### 데이터 구성\n",
    "- Training dataset (407 subjects each with 16 slices)\n",
    "  - Aliased image: FastMRI 촬영으로 얻은 이미지\n",
    "  - GRAPPA reconstructed image: GRAPPA 알고리즘을 이용해 재구성한 이미지\n",
    "  - Multichannel k-space data provided (full data with undersampling mask): 이미지로 변환하기 이전의 raw 데이터. 학습용으로 사용 시 mask를 곱하여 사용해야 함(데이터 양을 1/5로 언더샘플링)\n",
    "  - Aliasing free image (ground truth): 원본 MRI 데이터, target에 해당\n",
    "- Test dataset for leaderboard (50 subjects each with 16 slices)\n",
    "  - Aliased image\n",
    "  - GRAPPA reconstructed image\n",
    "  - Multichannel k-space data provided (undersampled data only)\n",
    "  - Aliasing free image (ground truth)\n",
    "- Test dataset for final evaluation\n",
    "  - Will not be available for public\n",
    "  - Evaluation procedure to be anounced"
   ]
  }
 ],
 "metadata": {
  "language_info": {
   "name": "python"
  },
  "orig_nbformat": 4
 },
 "nbformat": 4,
 "nbformat_minor": 2
}
