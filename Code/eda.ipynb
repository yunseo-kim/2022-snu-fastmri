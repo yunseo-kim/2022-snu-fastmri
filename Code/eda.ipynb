{
 "cells": [
  {
   "cell_type": "markdown",
   "metadata": {},
   "source": [
    "## 데이터 설명\n",
    "### 유의사항\n",
    "- 서버의 master 데이터셋을 local로 복사한 후에 사용할 것\n",
    "- 외부 데이터 사용 불가\n",
    "\n",
    "### 데이터 구성\n",
    "- Training dataset (407 subjects each with 16 slices)\n",
    "  - Aliased image: FastMRI 촬영으로 얻은 이미지\n",
    "  - GRAPPA reconstructed image: GRAPPA 알고리즘을 이용해 재구성한 이미지\n",
    "  - Multichannel k-space data provided (full data with undersampling mask): 이미지로 변환하기 이전의 raw 데이터. 학습용으로 사용 시 mask를 곱하여 사용해야 함(데이터 양을 1/5로 언더샘플링)\n",
    "  - Aliasing free image (ground truth): 원본 MRI 데이터, target에 해당\n",
    "- Test dataset for leaderboard (50 subjects each with 16 slices)\n",
    "  - Aliased image\n",
    "  - GRAPPA reconstructed image\n",
    "  - Multichannel k-space data provided (undersampled data only)\n",
    "  - Aliasing free image (ground truth)\n",
    "- Test dataset for final evaluation\n",
    "  - Will not be available for public\n",
    "  - Evaluation procedure to be anounced"
   ]
  },
  {
   "cell_type": "markdown",
   "metadata": {
    "collapsed": false,
    "pycharm": {
     "name": "#%% md\n"
    }
   },
   "source": [
    "## Potential Scenario\n",
    "- GRAPPA Reconed image -> neural net -> aliasing free image\n",
    "- k-space data -> custom reconed image -> neural net -> aliasing free image\n",
    "- k-space data -> neural net -> aliasing free image"
   ]
  },
  {
   "cell_type": "markdown",
   "metadata": {
    "collapsed": false,
    "pycharm": {
     "name": "#%% md\n"
    }
   },
   "source": [
    "## 이미지 데이터 확인"
   ]
  },
  {
   "cell_type": "markdown",
   "metadata": {},
   "source": [
    "### 모듈 임포트"
   ]
  },
  {
   "cell_type": "code",
   "execution_count": null,
   "metadata": {
    "collapsed": false,
    "pycharm": {
     "is_executing": true,
     "name": "#%%\n"
    }
   },
   "outputs": [],
   "source": [
    "import h5py\n",
    "import matplotlib.pyplot as plt\n",
    "import numpy as np"
   ]
  },
  {
   "cell_type": "markdown",
   "metadata": {},
   "source": [
    "### 파일 지정"
   ]
  },
  {
   "cell_type": "code",
   "execution_count": null,
   "metadata": {
    "collapsed": false,
    "pycharm": {
     "name": "#%%\n"
    }
   },
   "outputs": [],
   "source": [
    "f = h5py.File('../../input/train/image/brain95.h5', 'r')"
   ]
  },
  {
   "cell_type": "markdown",
   "metadata": {},
   "source": [
    "### 키 확인"
   ]
  },
  {
   "cell_type": "markdown",
   "metadata": {},
   "source": [
    "h5py.File acts like a Python dictionary, thus we can check the keys"
   ]
  },
  {
   "cell_type": "code",
   "execution_count": null,
   "metadata": {},
   "outputs": [],
   "source": [
    "print(list(f.keys()))\n",
    "# ['image_grappa', 'image_input', 'image_label']"
   ]
  },
  {
   "cell_type": "markdown",
   "metadata": {},
   "source": [
    "### 데이터 형태 및 자료형 확인"
   ]
  },
  {
   "cell_type": "markdown",
   "metadata": {},
   "source": [
    "Let's examine the data set as a Dataset object"
   ]
  },
  {
   "cell_type": "code",
   "execution_count": null,
   "metadata": {},
   "outputs": [],
   "source": [
    "image_grappa = f['image_grappa']\n",
    "image_input = f['image_input']\n",
    "image_label = f['image_label']"
   ]
  },
  {
   "cell_type": "markdown",
   "metadata": {},
   "source": [
    "The object we obtained isn’t an array, but an HDF5 dataset.  \n",
    "Like NumPy arrays, datasets have both a shape and a data type:"
   ]
  },
  {
   "cell_type": "code",
   "execution_count": null,
   "metadata": {},
   "outputs": [],
   "source": [
    "print(\"image_grappa: \")\n",
    "print(image_grappa.shape)\n",
    "print(image_grappa.dtype)\n",
    "print('\\n')\n",
    "'''\n",
    "image_grappa: \n",
    "(16, 384, 384)\n",
    "float32\n",
    "'''\n",
    "\n",
    "print(\"image_input: \")\n",
    "print(image_input.shape)\n",
    "print(image_input.dtype)\n",
    "print('\\n')\n",
    "'''\n",
    "image_input: \n",
    "(16, 384, 384)\n",
    "float32\n",
    "'''\n",
    "\n",
    "print(\"image_label: \")\n",
    "print(image_label.shape)\n",
    "print(image_label.dtype)\n",
    "print('\\n')\n",
    "'''\n",
    "image_label: \n",
    "(16, 384, 384)\n",
    "float32\n",
    "'''"
   ]
  },
  {
   "cell_type": "markdown",
   "metadata": {},
   "source": [
    "- 각각 384*384 크기의 이미지 16장으로 구성\n",
    "- 실수형 픽셀 데이터"
   ]
  },
  {
   "cell_type": "markdown",
   "metadata": {},
   "source": [
    "### 데이터 분포 확인"
   ]
  },
  {
   "cell_type": "markdown",
   "metadata": {},
   "source": [
    "numpy로 평균과 표준편차, 최댓값, 최솟값 확인"
   ]
  },
  {
   "cell_type": "code",
   "execution_count": null,
   "metadata": {},
   "outputs": [],
   "source": [
    "print(\"[image_grappa]\")\n",
    "print(\"평균: \", np.mean(image_grappa))\n",
    "print(\"표준편차: \", np.std(image_grappa))\n",
    "print(\"최댓값: \", np.max(image_grappa))\n",
    "print(\"최솟값: \", np.min(image_grappa))\n",
    "print('\\n')\n",
    "\n",
    "print(\"[image_input]\")\n",
    "print(\"평균: \", np.mean(image_input))\n",
    "print(\"표준편차: \", np.std(image_input))\n",
    "print(\"최댓값: \", np.max(image_input))\n",
    "print(\"최솟값: \", np.min(image_input))\n",
    "print('\\n')\n",
    "\n",
    "print(\"[image_label]\")\n",
    "print(\"평균: \", np.mean(image_label))\n",
    "print(\"표준편차: \", np.std(image_label))\n",
    "print(\"최댓값: \", np.max(image_label))\n",
    "print(\"최솟값: \", np.min(image_label))\n",
    "print('\\n')"
   ]
  },
  {
   "cell_type": "markdown",
   "metadata": {},
   "source": [
    "- 픽셀 데이터의 스케일이 작은 편이다.\n",
    "- 각 데이터셋은 거의 균일한 스케일을 가지는 것으로 확인됐으며, 별도의 스케일링 작업을 하지 않아도 무방할 듯 하다."
   ]
  },
  {
   "cell_type": "markdown",
   "metadata": {},
   "source": [
    "## k-space 데이터 확인"
   ]
  },
  {
   "cell_type": "markdown",
   "metadata": {},
   "source": [
    "### 파일 지정"
   ]
  },
  {
   "cell_type": "code",
   "execution_count": null,
   "metadata": {},
   "outputs": [],
   "source": [
    "f = h5py.File('../../input/train/kspace/brain95.h5', 'r')"
   ]
  },
  {
   "cell_type": "markdown",
   "metadata": {},
   "source": [
    "### 키 확인"
   ]
  },
  {
   "cell_type": "code",
   "execution_count": null,
   "metadata": {},
   "outputs": [],
   "source": [
    "print(list(f.keys()))\n",
    "# ['kspace', 'mask']"
   ]
  },
  {
   "cell_type": "markdown",
   "metadata": {},
   "source": [
    "### 데이터 형태 및 자료형 확인"
   ]
  },
  {
   "cell_type": "code",
   "execution_count": null,
   "metadata": {},
   "outputs": [],
   "source": [
    "kspace = f['kspace']\n",
    "mask = f['mask']\n",
    "\n",
    "print(\"kspace: \")\n",
    "print(kspace.shape)\n",
    "print(kspace.dtype)\n",
    "print('\\n')\n",
    "'''\n",
    "kspace: \n",
    "(16, 20, 768, 396)\n",
    "complex64\n",
    "'''\n",
    "\n",
    "print(\"mask: \")\n",
    "print(mask.shape)\n",
    "print(mask.dtype)\n",
    "print('\\n')\n",
    "'''\n",
    "mask: \n",
    "(396,)\n",
    "float32\n",
    "'''"
   ]
  },
  {
   "cell_type": "code",
   "execution_count": null,
   "outputs": [],
   "source": [
    "print(list(mask))"
   ],
   "metadata": {
    "collapsed": false,
    "pycharm": {
     "name": "#%%\n"
    }
   }
  },
  {
   "cell_type": "markdown",
   "source": [
    "- k-space 데이터는 (16, 20, 768, 396) 크기의 복소수 배열\n",
    "- mask는 0 또는 1의 값을 갖는 396 크기의 1차원 실수 배열(k-space 데이터에 곱하여 사용)"
   ],
   "metadata": {
    "collapsed": false,
    "pycharm": {
     "name": "#%% md\n"
    }
   }
  },
  {
   "cell_type": "markdown",
   "metadata": {},
   "source": [
    "- k-space 데이터는 (16, 20, 768, 396) 크기의 복소수 배열\n",
    "- mask는 0 또는 1의 값을 갖는 396 크기의 1차원 실수 배열(k-space 데이터에 곱하여 사용)"
   ]
  }
 ],
 "metadata": {
  "language_info": {
   "name": "python"
  },
  "orig_nbformat": 4
 },
 "nbformat": 4,
 "nbformat_minor": 2
}